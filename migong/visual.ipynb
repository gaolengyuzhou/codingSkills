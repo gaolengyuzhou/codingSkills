{
 "cells": [
  {
   "cell_type": "code",
   "execution_count": 1,
   "metadata": {},
   "outputs": [],
   "source": [
    "m, n = map(int, input(\"请输入两个整数，以空格分隔: \").split(' '))\n",
    "arr = []\n",
    "for i in range(m):\n",
    "    arr_n = list(map(int, input(f\"请输入第{i + 1}行: \").split(' ')))\n",
    "    arr.append(arr_n)\n",
    "\n",
    "\n",
    "def yidong(path, i, j):\n",
    "    if path == 0:\n",
    "        i = i + arr[i][j]\n",
    "    elif path == 1:\n",
    "        i = i - arr[i][j]\n",
    "    elif path == 3:\n",
    "        j = j - arr[i][j]\n",
    "    elif path == 2:\n",
    "        j = j + arr[i][j]\n",
    "\n",
    "    return i, j\n"
   ]
  },
  {
   "cell_type": "code",
   "execution_count": 152,
   "metadata": {},
   "outputs": [
    {
     "data": {
      "text/plain": [
       "[[1, 1, 1, 1, 1],\n",
       " [2, 2, 2, 2, 2],\n",
       " [2, 2, 2, 2, 2],\n",
       " [1, 1, 1, 1, 1],\n",
       " [1, 1, 1, 1, 1]]"
      ]
     },
     "execution_count": 152,
     "metadata": {},
     "output_type": "execute_result"
    }
   ],
   "source": [
    "arr"
   ]
  },
  {
   "cell_type": "code",
   "execution_count": 138,
   "metadata": {},
   "outputs": [],
   "source": [
    "# 用于记录已经访问过的位置以及到达该位置的最短步数和前驱位置\n",
    "visited = {}\n",
    "# 将起始位置 (0, 0) 的步数设为0，并加入已访问记录，前驱位置设为None\n",
    "visited[(0, 0)] = (0, None)\n",
    "# 队列中的元素为 (i, j, steps)，分别表示当前位置的行、列和到达该位置的步数\n",
    "queue = [(0, 0, 0)]  "
   ]
  },
  {
   "cell_type": "markdown",
   "metadata": {},
   "source": [
    ">观察可以探索到的路径，不加`visited`有一点缺陷,就是说“走过的路不能再走”"
   ]
  },
  {
   "cell_type": "code",
   "execution_count": 142,
   "metadata": {},
   "outputs": [
    {
     "name": "stdout",
     "output_type": "stream",
     "text": [
      "[(1, 1, 2), (0, 2, 2), (0, 0, 2), (2, 2, 3), (0, 2, 3), (1, 1, 3)]\n"
     ]
    }
   ],
   "source": [
    "# while queue:\n",
    "i, j, steps = queue.pop(0)\n",
    "\n",
    "# 找到目标位置，构建最短路线\n",
    "if (i, j) == (m - 1, n - 1):\n",
    "    print(\"ok\")\n",
    "\n",
    "for path in range(4):\n",
    "    new_i, new_j = yidong(path, i, j)\n",
    "\n",
    "    if 0 <= new_i < m and 0 <= new_j < n:\n",
    "        queue.append((new_i, new_j, steps + 1))\n",
    "print(queue)"
   ]
  },
  {
   "cell_type": "code",
   "execution_count": null,
   "metadata": {},
   "outputs": [
    {
     "name": "stdout",
     "output_type": "stream",
     "text": [
      "ok\n",
      "[(1, 1, 2), (0, 2, 2), (2, 2, 3)]\n",
      "{(0, 0): (0, None), (1, 0): (1, (0, 0)), (0, 1): (1, (0, 0)), (1, 2): (2, (1, 0)), (1, 1): (2, (0, 1)), (0, 2): (2, (0, 1)), (2, 2): (3, (1, 2))}\n"
     ]
    }
   ],
   "source": [
    "# while queue:\n",
    "i, j, steps = queue.pop(0)\n",
    "\n",
    "for path in range(4):\n",
    "    new_i, new_j = yidong(path, i, j)\n",
    "\n",
    "    if 0 <= new_i < m and 0 <= new_j < n and (new_i, new_j) not in visited:\n",
    "        visited[(new_i, new_j)] = (steps + 1, (i, j))\n",
    "        queue.append((new_i, new_j, steps + 1))\n",
    "        if (new_i, new_j) == (m - 1, n - 1):# 找到目标位置\n",
    "            print(\"ok\")\n",
    "print(queue)\n",
    "print(visited)"
   ]
  },
  {
   "cell_type": "markdown",
   "metadata": {},
   "source": [
    ">最先找到的就 是最短路线了"
   ]
  },
  {
   "cell_type": "code",
   "execution_count": 137,
   "metadata": {},
   "outputs": [
    {
     "name": "stdout",
     "output_type": "stream",
     "text": [
      "[(0, 0), (1, 0), (1, 2), (2, 2)]\n"
     ]
    }
   ],
   "source": [
    "# while queue:\n",
    "i, j, steps = queue.pop(0)\n",
    "\n",
    "for path in range(4):\n",
    "    new_i, new_j = yidong(path, i, j)\n",
    "\n",
    "    if 0 <= new_i < m and 0 <= new_j < n and (new_i, new_j) not in visited:\n",
    "        visited[(new_i, new_j)] = (steps + 1, (i, j))\n",
    "        queue.append((new_i, new_j, steps + 1))\n",
    "        # 找到目标位置，构建最短路线\n",
    "        if (new_i, new_j) == (m - 1, n - 1):\n",
    "            lujing = []\n",
    "            current_pos = (new_i, new_j)\n",
    "            while current_pos!= (0, 0):\n",
    "                lujing.append(current_pos)\n",
    "                current_pos = visited[current_pos][1]\n",
    "            lujing.append((0, 0))\n",
    "            lujing.reverse()\n",
    "            print(lujing)"
   ]
  },
  {
   "cell_type": "markdown",
   "metadata": {},
   "source": [
    ">全部路线"
   ]
  },
  {
   "cell_type": "code",
   "execution_count": null,
   "metadata": {},
   "outputs": [
    {
     "name": "stdout",
     "output_type": "stream",
     "text": [
      "[(0, 0), (1, 0), (1, 2), (2, 2)]\n"
     ]
    },
    {
     "ename": "KeyboardInterrupt",
     "evalue": "",
     "output_type": "error",
     "traceback": [
      "\u001b[0;31m---------------------------------------------------------------------------\u001b[0m",
      "\u001b[0;31mKeyboardInterrupt\u001b[0m                         Traceback (most recent call last)",
      "Cell \u001b[0;32mIn[4], line 20\u001b[0m\n\u001b[1;32m     18\u001b[0m \u001b[38;5;28;01mwhile\u001b[39;00m current_pos\u001b[38;5;241m!=\u001b[39m (\u001b[38;5;241m0\u001b[39m, \u001b[38;5;241m0\u001b[39m):\n\u001b[1;32m     19\u001b[0m     lujing\u001b[38;5;241m.\u001b[39mappend(current_pos)\n\u001b[0;32m---> 20\u001b[0m     current_pos \u001b[38;5;241m=\u001b[39m visited[current_pos]\n\u001b[1;32m     21\u001b[0m lujing\u001b[38;5;241m.\u001b[39mappend((\u001b[38;5;241m0\u001b[39m, \u001b[38;5;241m0\u001b[39m))\n\u001b[1;32m     22\u001b[0m lujing\u001b[38;5;241m.\u001b[39mreverse()\n",
      "\u001b[0;31mKeyboardInterrupt\u001b[0m: "
     ]
    }
   ],
   "source": [
    "visited = {}\n",
    "visited[(0, 0)] = None\n",
    "queue = [(0, 0, 0)] \n",
    "while queue:\n",
    "    i, j, steps = queue.pop(0)\n",
    "\n",
    "    for path in range(4):\n",
    "        new_i, new_j = yidong(path, i, j)\n",
    "\n",
    "        if 0 <= new_i < m and 0 <= new_j < n and (new_i, new_j) not in visited:\n",
    "            visited[(new_i, new_j)] = (i, j)\n",
    "            queue.append((new_i, new_j,steps+1))\n",
    "        # 找到目标位置 的全部路线\n",
    "        if (new_i, new_j) == (m - 1, n - 1):\n",
    "            visited[(new_i, new_j)] = (i, j)\n",
    "            lujing = []\n",
    "            current_pos = (new_i, new_j)\n",
    "            while current_pos!= (0, 0):\n",
    "                lujing.append(current_pos)\n",
    "                current_pos = visited[current_pos]\n",
    "            lujing.append((0, 0))\n",
    "            lujing.reverse()\n",
    "            print(lujing)"
   ]
  }
 ],
 "metadata": {
  "kernelspec": {
   "display_name": "yolo38",
   "language": "python",
   "name": "python3"
  },
  "language_info": {
   "codemirror_mode": {
    "name": "ipython",
    "version": 3
   },
   "file_extension": ".py",
   "mimetype": "text/x-python",
   "name": "python",
   "nbconvert_exporter": "python",
   "pygments_lexer": "ipython3",
   "version": "3.8.20"
  }
 },
 "nbformat": 4,
 "nbformat_minor": 2
}
